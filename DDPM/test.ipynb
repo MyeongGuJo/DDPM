{
 "cells": [
  {
   "cell_type": "code",
   "execution_count": null,
   "metadata": {},
   "outputs": [],
   "source": [
    "import torch\n",
    "import torch.nn as nn\n",
    "from torchvision import datasets\n",
    "import torchvision.transforms as transforms\n",
    "import torch.optim as optim # See https://pytorch.org/docs/stable/optim.html\n",
    "\n",
    "train_dataset = datasets.CIFAR10(root='./cifar_data/', train=True, transform=transforms.ToTensor(), download=True)\n",
    "#test_dataset = datasets.CIFAR10(root='./cifar_data/', train=False, transform=transforms.ToTensor(), )\n",
    "train_dataset.data = torch.tensor(train_dataset.data)\n",
    "#train_dataset.targets = torch.tensor(train_dataset.targets)\n",
    "#test_dataset.data = torch.tensor(test_dataset.data)\n",
    "#test_dataset.targets = torch.tensor(test_dataset.targets)"
   ]
  },
  {
   "cell_type": "code",
   "execution_count": null,
   "metadata": {},
   "outputs": [],
   "source": [
    "%matplotlib inline\n",
    "import matplotlib.pyplot as plt\n",
    "\n",
    "image = train_dataset.data[0]\n",
    "print(image.shape)\n",
    "\n",
    "plt.figure(figsize=(2, 2))\n",
    "plt.imshow(image)\n",
    "plt.show()"
   ]
  },
  {
   "cell_type": "code",
   "execution_count": null,
   "metadata": {},
   "outputs": [],
   "source": [
    "from models.model import Unet\n",
    "\n",
    "bs = 64\n",
    "ch = 3\n",
    "size = 32\n",
    "timestep = 1000\n",
    "lr = 1e-4\n",
    "epochs = 12\n",
    "device = 'cuda' if torch.cuda.is_available() else 'cpu'\n",
    "\n",
    "model = Unet(ch, size, timestep).to(device)\n",
    "\n",
    "device"
   ]
  },
  {
   "cell_type": "code",
   "execution_count": null,
   "metadata": {},
   "outputs": [],
   "source": [
    "from torch.utils.data import DataLoader\n",
    "from torch.optim import Adam\n",
    "from tqdm import tqdm\n",
    "\n",
    "\n",
    "train_loader = DataLoader(dataset=train_dataset.data, batch_size=bs, shuffle=True)\n",
    "optimizer = Adam(model.parameters(), lr=lr)"
   ]
  },
  {
   "cell_type": "code",
   "execution_count": null,
   "metadata": {},
   "outputs": [],
   "source": [
    "model.train()\n",
    "samples = []\n",
    "\n",
    "# noise\n",
    "sample = model.sampling()\n",
    "samples.append(sample)\n",
    "\n",
    "for epoch in range(epochs):\n",
    "    loader = tqdm(train_loader)\n",
    "    \n",
    "    for step, batch in enumerate(loader):\n",
    "        # (bs, c, h, w) -> (bs, h, w, c)\n",
    "        batch = batch.permute(0, 3, 1, 2).to(device)\n",
    "        t = torch.randint(0, timestep-1, (1, ), device=device)\n",
    "        \n",
    "        optimizer.zero_grad()\n",
    "        \n",
    "        loss = model.get_loss(batch.float(), t)\n",
    "        \n",
    "        loss.backward()\n",
    "        \n",
    "        optimizer.step()\n",
    "\n",
    "        loader.set_description(f'Epoch {epoch} | step: {step} | loss: {loss.item():.4f}')\n",
    "        \n",
    "    sample = model.sampling()\n",
    "    samples.append(sample)"
   ]
  },
  {
   "cell_type": "code",
   "execution_count": null,
   "metadata": {},
   "outputs": [],
   "source": [
    "model.eval()\n",
    "\n",
    "with torch.no_grad():\n",
    "    image = model.sampling()\n",
    "    image = image.squeeze(0).cpu()\n",
    "    image = image.permute(1, 2, 0)\n",
    "\n",
    "    print(image.shape)\n",
    "    plt.figure(figsize=(1, 1))\n",
    "    plt.imshow(image)\n",
    "    plt.show()"
   ]
  },
  {
   "cell_type": "code",
   "execution_count": null,
   "metadata": {},
   "outputs": [],
   "source": [
    "%matplotlib inline\n",
    "with torch.no_grad():\n",
    "    for image in samples:\n",
    "        image = image.squeeze(0).cpu()\n",
    "        image = image.permute(1, 2, 0)\n",
    "        \n",
    "        plt.figure(figsize=(1, 1))\n",
    "        plt.imshow(image)\n",
    "        plt.show()"
   ]
  }
 ],
 "metadata": {
  "kernelspec": {
   "display_name": "Python 3",
   "language": "python",
   "name": "python3"
  },
  "language_info": {
   "codemirror_mode": {
    "name": "ipython",
    "version": 3
   },
   "file_extension": ".py",
   "mimetype": "text/x-python",
   "name": "python",
   "nbconvert_exporter": "python",
   "pygments_lexer": "ipython3",
   "version": "3.11.7"
  }
 },
 "nbformat": 4,
 "nbformat_minor": 2
}
